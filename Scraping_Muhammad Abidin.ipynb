{
 "cells": [
  {
   "cell_type": "code",
   "execution_count": null,
   "id": "5633ed43",
   "metadata": {},
   "outputs": [],
   "source": [
    "import csv\n",
    "import requests\n",
    "from bs4 import BeautifulSoup as bs\n",
    "\n",
    "URL = 'https://proxyway.com/reviews'\n",
    "\n",
    "data = []\n",
    "\n",
    "for page in range(1, 4):\n",
    "    print(\"\\n\")\n",
    "    print(\"Sub Titles Page:\", page, \"\\n\")\n",
    "\n",
    "    req = requests.get(f'{URL}/page/{page}')\n",
    "    soup = bs(req.text, 'html.parser')\n",
    "\n",
    "    titles = soup.find_all('h3', class_='archive-list__title')\n",
    "\n",
    "    for i, title in enumerate(titles):\n",
    "        print(f\"{i+1} {title.text}\")\n",
    "        data.append({\n",
    "            'Page Number': f'Page {page}',\n",
    "            'Title Number': f'Title {i+1}',\n",
    "            'Title Name': title.text\n",
    "        })\n",
    "\n",
    "# Menyimpan data ke dalam file CSV\n",
    "filename = 'proxywaydata_M.Abidin_V3922032.csv'\n",
    "fieldnames = ['Page Number', 'Title Number', 'Title Name']\n",
    "\n",
    "with open(filename, 'w', newline='') as csvfile:\n",
    "    writer = csv.DictWriter(csvfile, fieldnames=fieldnames)\n",
    "    writer.writeheader()\n",
    "    writer.writerows(data)\n",
    "\n",
    "print(\"Data telah disimpan ke dalam file\", filename)"
   ]
  }
 ],
 "metadata": {
  "kernelspec": {
   "display_name": "Python 3 (ipykernel)",
   "language": "python",
   "name": "python3"
  },
  "language_info": {
   "codemirror_mode": {
    "name": "ipython",
    "version": 3
   },
   "file_extension": ".py",
   "mimetype": "text/x-python",
   "name": "python",
   "nbconvert_exporter": "python",
   "pygments_lexer": "ipython3",
   "version": "3.10.9"
  }
 },
 "nbformat": 4,
 "nbformat_minor": 5
}
